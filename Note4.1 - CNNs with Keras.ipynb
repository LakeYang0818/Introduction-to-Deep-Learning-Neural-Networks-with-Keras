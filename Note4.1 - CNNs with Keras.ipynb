{
 "cells": [
  {
   "cell_type": "markdown",
   "id": "c0eef9d1",
   "metadata": {},
   "source": [
    "# CNNs (Convolutional Neural Networks) with keras\n",
    "1. Use keras library to build convolutional neural networks\n",
    "2. CNNs with **One** convolutional and pooling layers\n",
    "2. CNNs with **Two** convolutional and pooling layers\n"
   ]
  },
  {
   "cell_type": "markdown",
   "id": "783bc626",
   "metadata": {},
   "source": [
    "### Step 1. Import packages"
   ]
  },
  {
   "cell_type": "code",
   "execution_count": 1,
   "id": "07b35e96",
   "metadata": {},
   "outputs": [
    {
     "name": "stderr",
     "output_type": "stream",
     "text": [
      "2023-08-16 12:59:48.749999: I tensorflow/core/platform/cpu_feature_guard.cc:182] This TensorFlow binary is optimized to use available CPU instructions in performance-critical operations.\n",
      "To enable the following instructions: AVX2 FMA, in other operations, rebuild TensorFlow with the appropriate compiler flags.\n"
     ]
    }
   ],
   "source": [
    "import keras\n",
    "from keras.models import Sequential\n",
    "from keras.layers import Dense\n",
    "from keras.utils  import to_categorical\n",
    "\n",
    "# Add Convolutional layers\n",
    "from keras.layers.convolutional import Conv2D\n",
    "\n",
    "# Add Pooling layers\n",
    "from keras.layers.convolutional import MaxPooling2D\n",
    "\n",
    "# Flatten data for fully connected layers\n",
    "from keras.layers import Flatten"
   ]
  },
  {
   "cell_type": "markdown",
   "id": "1ad3cff4",
   "metadata": {},
   "source": [
    "## Sample 1. CNNs Convolutional Layer with ONE set of Convolutional and Pooling layers\n",
    "\n",
    "### [Sample 1] Step 2. dataset\n",
    "- MNIST dataset"
   ]
  },
  {
   "cell_type": "code",
   "execution_count": 2,
   "id": "16ed671e",
   "metadata": {},
   "outputs": [],
   "source": [
    "# import data\n",
    "from keras.datasets import mnist\n",
    "\n",
    "# load data\n",
    "(X_train, y_train), (X_test, y_test) = mnist.load_data()\n",
    "\n",
    "# reshape to be [samples][pixels][width][height]\n",
    "X_train = X_train.reshape(X_train.shape[0], 28, 28, 1).astype(\"float32\")\n",
    "X_test  = X_test.reshape(X_test.shape[0], 28, 28, 1).astype(\"float32\")\n"
   ]
  },
  {
   "cell_type": "markdown",
   "id": "8c99a59e",
   "metadata": {},
   "source": [
    "### [Sample 1] Step 3. Data Preprocessing\n",
    "- Normlaization\n",
    "- Categorical to Numerical: Convert the target variables into binary categories (0 / 1) "
   ]
  },
  {
   "cell_type": "code",
   "execution_count": 3,
   "id": "8beaa95c",
   "metadata": {},
   "outputs": [],
   "source": [
    "# Normalze the pixel values to be between 0 and 1\n",
    "X_train = X_train / 255\n",
    "X_test  = X_test  / 255\n",
    "\n",
    "# Convert the target varibale into binary categories\n",
    "y_train = to_categorical(y_train)\n",
    "y_test  = to_categorical(y_test)\n",
    "\n",
    "# number of categories\n",
    "num_classes = y_test.shape[1]"
   ]
  },
  {
   "cell_type": "markdown",
   "id": "8491eb63",
   "metadata": {},
   "source": [
    "### [Sample 1] Step 4. Build the CNNs model with one set of convolutional and pooling layers"
   ]
  },
  {
   "cell_type": "code",
   "execution_count": 4,
   "id": "92ad9d79",
   "metadata": {},
   "outputs": [],
   "source": [
    "def convolutional_model():\n",
    "    \n",
    "    # create model\n",
    "    model = Sequential()\n",
    "    # Add a convolutionaal layer\n",
    "    model.add(Conv2D(16, (5, 5), strides = (1, 1), activation = \"relu\", input_shape = (28, 28, 1)))\n",
    "    # Add a pooling layer\n",
    "    model.add(MaxPooling2D(pool_size = (2, 2), strides = (2, 2)))\n",
    "    \n",
    "    model.add(Flatten())\n",
    "    model.add(Dense(100, activation = \"relu\"))\n",
    "    model.add(Dense(num_classes, activation = \"softmax\"))\n",
    "    \n",
    "    # compile the model\n",
    "    model.compile(optimizer = \"adam\", loss = \"categorical_crossentropy\")\n",
    "    return model\n",
    "    "
   ]
  },
  {
   "cell_type": "markdown",
   "id": "dbc9c59f",
   "metadata": {},
   "source": [
    "### [Sample 1] Step 5. Train and Evaluate"
   ]
  },
  {
   "cell_type": "code",
   "execution_count": 5,
   "id": "1a081bce",
   "metadata": {},
   "outputs": [
    {
     "name": "stdout",
     "output_type": "stream",
     "text": [
      "Epoch 1/10\n",
      "300/300 - 8s - loss: 0.2769 - val_loss: 0.0862 - 8s/epoch - 28ms/step\n",
      "Epoch 2/10\n",
      "300/300 - 9s - loss: 0.0782 - val_loss: 0.0550 - 9s/epoch - 28ms/step\n",
      "Epoch 3/10\n",
      "300/300 - 9s - loss: 0.0555 - val_loss: 0.0477 - 9s/epoch - 30ms/step\n",
      "Epoch 4/10\n",
      "300/300 - 7s - loss: 0.0419 - val_loss: 0.0471 - 7s/epoch - 25ms/step\n",
      "Epoch 5/10\n",
      "300/300 - 8s - loss: 0.0353 - val_loss: 0.0380 - 8s/epoch - 26ms/step\n",
      "Epoch 6/10\n",
      "300/300 - 7s - loss: 0.0282 - val_loss: 0.0395 - 7s/epoch - 24ms/step\n",
      "Epoch 7/10\n",
      "300/300 - 7s - loss: 0.0235 - val_loss: 0.0374 - 7s/epoch - 25ms/step\n",
      "Epoch 8/10\n",
      "300/300 - 8s - loss: 0.0198 - val_loss: 0.0507 - 8s/epoch - 26ms/step\n",
      "Epoch 9/10\n",
      "300/300 - 8s - loss: 0.0159 - val_loss: 0.0378 - 8s/epoch - 25ms/step\n",
      "Epoch 10/10\n",
      "300/300 - 8s - loss: 0.0133 - val_loss: 0.0424 - 8s/epoch - 25ms/step\n"
     ]
    },
    {
     "ename": "TypeError",
     "evalue": "'float' object is not subscriptable",
     "output_type": "error",
     "traceback": [
      "\u001b[0;31m---------------------------------------------------------------------------\u001b[0m",
      "\u001b[0;31mTypeError\u001b[0m                                 Traceback (most recent call last)",
      "Cell \u001b[0;32mIn[5], line 10\u001b[0m\n\u001b[1;32m      8\u001b[0m \u001b[38;5;66;03m# evaluate the model\u001b[39;00m\n\u001b[1;32m      9\u001b[0m scores \u001b[38;5;241m=\u001b[39m model\u001b[38;5;241m.\u001b[39mevaluate(X_test, y_test, verbose \u001b[38;5;241m=\u001b[39m \u001b[38;5;241m0\u001b[39m)\n\u001b[0;32m---> 10\u001b[0m \u001b[38;5;28mprint\u001b[39m(\u001b[38;5;124m\"\u001b[39m\u001b[38;5;124mAccuracy: \u001b[39m\u001b[38;5;132;01m{}\u001b[39;00m\u001b[38;5;124m \u001b[39m\u001b[38;5;130;01m\\n\u001b[39;00m\u001b[38;5;124m Error: \u001b[39m\u001b[38;5;132;01m{}\u001b[39;00m\u001b[38;5;124m\"\u001b[39m\u001b[38;5;241m.\u001b[39mformat(\u001b[43mscores\u001b[49m\u001b[43m[\u001b[49m\u001b[38;5;241;43m1\u001b[39;49m\u001b[43m]\u001b[49m, \u001b[38;5;241m100\u001b[39m \u001b[38;5;241m-\u001b[39m scores[\u001b[38;5;241m1\u001b[39m] \u001b[38;5;241m*\u001b[39m \u001b[38;5;241m100\u001b[39m))\n",
      "\u001b[0;31mTypeError\u001b[0m: 'float' object is not subscriptable"
     ]
    }
   ],
   "source": [
    "# build the model\n",
    "model = convolutional_model()\n",
    "\n",
    "# fit the model\n",
    "model.fit(X_train, y_train, validation_data = (X_test, y_test), \n",
    "          epochs = 10, batch_size = 200, verbose = 2)"
   ]
  },
  {
   "cell_type": "code",
   "execution_count": 6,
   "id": "68bfc9f5",
   "metadata": {},
   "outputs": [
    {
     "name": "stdout",
     "output_type": "stream",
     "text": [
      "Accuracy: 0.04243125766515732 \n",
      " Error: 95.75687423348427\n"
     ]
    }
   ],
   "source": [
    "# evaluate the model\n",
    "scores = model.evaluate(X_test, y_test, verbose = 0)\n",
    "print(\"Accuracy: {} \\n Error: {}\".format(scores, 100 - scores * 100))\n"
   ]
  }
 ],
 "metadata": {
  "kernelspec": {
   "display_name": "Python 3 (ipykernel)",
   "language": "python",
   "name": "python3"
  },
  "language_info": {
   "codemirror_mode": {
    "name": "ipython",
    "version": 3
   },
   "file_extension": ".py",
   "mimetype": "text/x-python",
   "name": "python",
   "nbconvert_exporter": "python",
   "pygments_lexer": "ipython3",
   "version": "3.10.9"
  }
 },
 "nbformat": 4,
 "nbformat_minor": 5
}
